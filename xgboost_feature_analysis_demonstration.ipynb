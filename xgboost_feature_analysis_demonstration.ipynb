{
 "cells": [
  {
   "cell_type": "code",
   "execution_count": 1,
   "metadata": {
    "collapsed": false
   },
   "outputs": [],
   "source": [
    "from xgboost_feature_analysis import *\n",
    "\n",
    "import numpy as np\n",
    "import pandas as pd\n",
    "import matplotlib.pyplot as plt\n",
    "\n",
    "from xgboost import plot_tree\n",
    "from xgboost import XGBRegressor\n",
    "from xgboost import plot_importance\n",
    "from copy import deepcopy"
   ]
  },
  {
   "cell_type": "markdown",
   "metadata": {},
   "source": [
    "xgboost_feature_analysis is a set of functions that will analyze feature importance for XGBoost models when certain features are fixed at various values."
   ]
  },
  {
   "cell_type": "markdown",
   "metadata": {},
   "source": [
    "We begin by defining the following function, which is highly dependent on $y$ when $x < .5$, but not very dependent on $y$ when $x \\geq .5$:\n",
    "\n",
    "$$f(x,y) = \\left\\{\n",
    "\\begin{array}{ll}\n",
    "      \\sin(y) & x < .5 \\\\\n",
    "      .01 \\sin(y) & x \\geq .5 \\\\\n",
    "\\end{array} \n",
    "\\right.$$\n",
    "\n",
    "We'll then use XGBoost to approximate this function.  We would expect that the learning algorithm will split much more on $y$ when $x < .5$, and much less when $x \\geq .5$.  "
   ]
  },
  {
   "cell_type": "code",
   "execution_count": 2,
   "metadata": {
    "collapsed": true
   },
   "outputs": [],
   "source": [
    "def f(x,y):\n",
    "    return np.sin(y) if x < .5 else .01 * np.sin(y) "
   ]
  },
  {
   "cell_type": "code",
   "execution_count": 3,
   "metadata": {
    "collapsed": false
   },
   "outputs": [
    {
     "name": "stdout",
     "output_type": "stream",
     "text": [
      "Mean error on training data: 0.000193854947844\n",
      "Mean error on test set: 0.000244510113807\n"
     ]
    }
   ],
   "source": [
    "model = XGBRegressor()\n",
    "model.set_params(**{'n_estimators':200, 'learning_rate':.05, 'base_score':0, 'colsample_bytree':1,  'max_depth':5})\n",
    "\n",
    "N = 5000\n",
    "\n",
    "\n",
    "array = np.random.rand(N,2)\n",
    "data = pd.DataFrame(array)\n",
    "\n",
    "data.columns = ['x','y']\n",
    "#data['output'] = data.apply(lambda row: 1 if row['x']**2 + row['y']**2 < 1 else 0, axis = 1)\n",
    "\n",
    "\n",
    "\n",
    "\n",
    "data['output'] = data.apply(lambda row: f(row['x'], row['y']), axis = 1)\n",
    "data\n",
    "\n",
    "X = data[['x', 'y']]\n",
    "Y = data['output']\n",
    "\n",
    "model.fit(X,Y)\n",
    "#forest = get_forest(model)\n",
    "#print forest\n",
    "#data['prediction'] = model.predict(X)\n",
    "#data['my_pred'] = data.apply(lambda x: evaluate_model(model, x), axis = 1)\n",
    "#data['diff'] = data['prediction'] - data['my_pred']\n",
    "data \n",
    "\n",
    "data['prediction'] = model.predict(X)\n",
    "data['err'] = abs(data['output'] - data['prediction'])\n",
    "\n",
    "print \"Mean error on training data:\", data['err'].mean()\n",
    "\n",
    "\n",
    "\n",
    "\n",
    "test_data = pd.DataFrame(np.random.rand(N,2))\n",
    "test_data.columns = ['x','y']\n",
    "test_data['output'] = test_data.apply(lambda row: f(row['x'], row['y']), axis = 1)\n",
    "\n",
    "\n",
    "test_data['prediction'] = model.predict(test_data[['x','y']])\n",
    "test_data['err'] = abs(test_data['output'] - test_data['prediction'])\n",
    "\n",
    "print \"Mean error on test set:\", test_data['err'].mean()\n",
    "\n",
    "\n"
   ]
  },
  {
   "cell_type": "markdown",
   "metadata": {},
   "source": [
    "Using XGBoost's plot_feature_importance we can get the F-score's (number of splits in trees) for each variable.  We can reproduce this using the function plot_importance from xgboost_feature_analysis, as a check that it is correct."
   ]
  },
  {
   "cell_type": "code",
   "execution_count": 4,
   "metadata": {
    "collapsed": false
   },
   "outputs": [
    {
     "name": "stdout",
     "output_type": "stream",
     "text": [
      "{'Fscore_y': 2675, 'Fscore_x': 349}\n"
     ]
    },
    {
     "data": {
      "image/png": "[encoded data removed]",
      "text/plain": [
       "<matplotlib.figure.Figure at 0xaf216d8>"
      ]
     },
     "metadata": {},
     "output_type": "display_data"
    }
   ],
   "source": [
    "print get_feature_importance(get_forest(model))\n",
    "plot_importance(model)\n",
    "plt.show()"
   ]
  },
  {
   "cell_type": "markdown",
   "metadata": {},
   "source": [
    "However, there is no way in XGBoost to get feature importance for $y$ at different fixed values of $x$.  This we can do using xgboost_feature_analysis.  This algorithm works by contracting and pruning each of the trees in the XGBoost model appropriately for each fixed value of $x$."
   ]
  },
  {
   "cell_type": "code",
   "execution_count": 5,
   "metadata": {
    "collapsed": false
   },
   "outputs": [
    {
     "data": {
      "text/html": [
       "<div>\n",
       "<table border=\"1\" class=\"dataframe\">\n",
       "  <thead>\n",
       "    <tr style=\"text-align: right;\">\n",
       "      <th></th>\n",
       "      <th>x</th>\n",
       "      <th>Fscore_y</th>\n",
       "    </tr>\n",
       "  </thead>\n",
       "  <tbody>\n",
       "    <tr>\n",
       "      <th>0</th>\n",
       "      <td>0.0</td>\n",
       "      <td>2053</td>\n",
       "    </tr>\n",
       "    <tr>\n",
       "      <th>1</th>\n",
       "      <td>0.1</td>\n",
       "      <td>2053</td>\n",
       "    </tr>\n",
       "    <tr>\n",
       "      <th>2</th>\n",
       "      <td>0.2</td>\n",
       "      <td>2053</td>\n",
       "    </tr>\n",
       "    <tr>\n",
       "      <th>3</th>\n",
       "      <td>0.3</td>\n",
       "      <td>2052</td>\n",
       "    </tr>\n",
       "    <tr>\n",
       "      <th>4</th>\n",
       "      <td>0.4</td>\n",
       "      <td>2056</td>\n",
       "    </tr>\n",
       "    <tr>\n",
       "      <th>5</th>\n",
       "      <td>0.5</td>\n",
       "      <td>2051</td>\n",
       "    </tr>\n",
       "    <tr>\n",
       "      <th>6</th>\n",
       "      <td>0.6</td>\n",
       "      <td>646</td>\n",
       "    </tr>\n",
       "    <tr>\n",
       "      <th>7</th>\n",
       "      <td>0.7</td>\n",
       "      <td>646</td>\n",
       "    </tr>\n",
       "    <tr>\n",
       "      <th>8</th>\n",
       "      <td>0.8</td>\n",
       "      <td>646</td>\n",
       "    </tr>\n",
       "    <tr>\n",
       "      <th>9</th>\n",
       "      <td>0.9</td>\n",
       "      <td>646</td>\n",
       "    </tr>\n",
       "    <tr>\n",
       "      <th>10</th>\n",
       "      <td>1.0</td>\n",
       "      <td>646</td>\n",
       "    </tr>\n",
       "  </tbody>\n",
       "</table>\n",
       "</div>"
      ],
      "text/plain": [
       "      x  Fscore_y\n",
       "0   0.0      2053\n",
       "1   0.1      2053\n",
       "2   0.2      2053\n",
       "3   0.3      2052\n",
       "4   0.4      2056\n",
       "5   0.5      2051\n",
       "6   0.6       646\n",
       "7   0.7       646\n",
       "8   0.8       646\n",
       "9   0.9       646\n",
       "10  1.0       646"
      ]
     },
     "execution_count": 5,
     "metadata": {},
     "output_type": "execute_result"
    }
   ],
   "source": [
    "npoints = 10\n",
    "\n",
    "points = [{'x': i/float(npoints)} for i in range(npoints+1) ]\n",
    "points\n",
    "df = pd.DataFrame( get_feature_importance_at_points(model, points) )\n",
    "df[['x', 'Fscore_y']]"
   ]
  },
  {
   "cell_type": "code",
   "execution_count": 6,
   "metadata": {
    "collapsed": false
   },
   "outputs": [
    {
     "data": {
      "image/png": "[encoded data removed]",
      "text/plain": [
       "<matplotlib.figure.Figure at 0xaf21ac8>"
      ]
     },
     "metadata": {},
     "output_type": "display_data"
    }
   ],
   "source": [
    "plt.clf()\n",
    "plt.plot(df.set_index('x'))\n",
    "\n",
    "plt.xlabel('x')\n",
    "plt.ylabel('Fscore_y')\n",
    "\n",
    "plt.show()"
   ]
  },
  {
   "cell_type": "markdown",
   "metadata": {
    "collapsed": false
   },
   "source": [
    "Thus as expected, we can see that XGBoost's learning algorithm splits much more on $y$ when $x < .5$, since there is little variation in $f$ as a function of $y$ when $x \\geq .5$."
   ]
  }
 ],
 "metadata": {
  "anaconda-cloud": {},
  "kernelspec": {
   "display_name": "Python [default]",
   "language": "python",
   "name": "python2"
  },
  "language_info": {
   "codemirror_mode": {
    "name": "ipython",
    "version": 2
   },
   "file_extension": ".py",
   "mimetype": "text/x-python",
   "name": "python",
   "nbconvert_exporter": "python",
   "pygments_lexer": "ipython2",
   "version": "2.7.12"
  }
 },
 "nbformat": 4,
 "nbformat_minor": 1
}
